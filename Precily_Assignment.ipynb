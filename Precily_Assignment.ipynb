{
  "nbformat": 4,
  "nbformat_minor": 0,
  "metadata": {
    "colab": {
      "name": "Precily Assignment.ipynb",
      "provenance": [],
      "collapsed_sections": []
    },
    "kernelspec": {
      "name": "python3",
      "display_name": "Python 3"
    },
    "language_info": {
      "name": "python"
    },
    "accelerator": "GPU"
  },
  "cells": [
    {
      "cell_type": "markdown",
      "metadata": {
        "id": "s42vgx7XnM14"
      },
      "source": [
        "### Importing required modules"
      ]
    },
    {
      "cell_type": "code",
      "metadata": {
        "id": "7krEdP1WPLdD"
      },
      "source": [
        "import numpy as np # linear algebra\n",
        "import pandas as pd # data processing, CSV file I/O (e.g. pd.read_csv)\n",
        "from numpy import unique\n",
        "from numpy import where\n",
        "from sklearn.cluster import KMeans\n",
        "from matplotlib import pyplot as plt\n",
        "import re\n",
        "from sklearn.cluster import MiniBatchKMeans\n",
        "\n",
        "import tensorflow.keras as keras\n",
        "from tensorflow.keras import layers\n",
        "from tensorflow.keras import models\n",
        "from tensorflow.keras import backend\n",
        "# tokenizer\n",
        "from tensorflow.keras.preprocessing.text import Tokenizer\n",
        "import nltk\n",
        "nltk.download('stopwords')\n",
        "from nltk.corpus import stopwords\n",
        "import pickle\n",
        "import gzip"
      ],
      "execution_count": 1,
      "outputs": []
    },
    {
      "cell_type": "code",
      "metadata": {
        "id": "mIx4YY7LQ7k5"
      },
      "source": [
        "# Loading data\n",
        "data = pd.read_csv('/content/drive/MyDrive/ML Datasets/text semantics data/Text_Similarity_Dataset.csv')"
      ],
      "execution_count": 2,
      "outputs": []
    },
    {
      "cell_type": "markdown",
      "metadata": {
        "id": "S0OT5bnKRdkO"
      },
      "source": [
        "#### Data Cleaning\n"
      ]
    },
    {
      "cell_type": "code",
      "metadata": {
        "colab": {
          "base_uri": "https://localhost:8080/"
        },
        "id": "e_ifFitlRgEU",
        "outputId": "585c0fbe-2d6e-4682-baa3-37ebf7750e08"
      },
      "source": [
        "# remove stopwords \n",
        "# (Stopwords are the English words which does not add much meaning to a sentence. \n",
        "# They can safely be ignored without sacrificing the meaning of the sentence.\n",
        "# For example, the words like the, he, have etc. Such words are already captured this in corpus named corpus.\n",
        "\n",
        "stop = set(stopwords.words(\"english\"))\n",
        "\n",
        "# This function removes stopwords\n",
        "def remove_stopwords(text):\n",
        "    filtered_words = [word.lower() for word in text.split() if word.lower() not in stop]\n",
        "    return \" \".join(filtered_words)\n",
        "\n",
        "temp = pd.DataFrame({'text1':data.text1.map(remove_stopwords),'text2':data.text2.map(remove_stopwords)})\n",
        "\n",
        "# # remove spaces, punctuations and numbers\n",
        "# clean_text = re.sub('[^a-zA-Z]', ' ', article_text)\n",
        "# clean_text = re.sub('\\s+', ' ', clean_text)\n",
        "# clean_text\n",
        "\n",
        "def remove_numbers_and_punctuations(text):\n",
        "  text = re.sub('[^a-zA-Z]', ' ', text)\n",
        "  text = re.sub('\\s+', ' ', text)\n",
        "  return text\n",
        "\n",
        "temp.text1 = temp.text1.map(remove_numbers_and_punctuations)\n",
        "temp.text2 = temp.text2.map(remove_numbers_and_punctuations)\n",
        "\n",
        "from nltk.stem.snowball import SnowballStemmer\n",
        "stemmer = SnowballStemmer(\"english\")\n",
        "# Stemming removes unnecessary endings of words like \"genoursly\" to \"genorous\"\n",
        "def applying_stemming(text):\n",
        "    stemmed_words = [stemmer.stem(word) for word in text.split()]\n",
        "    return \" \".join(stemmed_words)\n",
        "\n",
        "# Applying stemming\n",
        "temp.text1 = temp.text1.map(applying_stemming)\n",
        "temp.text2 = temp.text2.map(applying_stemming)"
      ],
      "execution_count": 3,
      "outputs": [
        {
          "output_type": "stream",
          "name": "stdout",
          "text": [
            "[nltk_data] Downloading package stopwords to /root/nltk_data...\n",
            "[nltk_data]   Unzipping corpora/stopwords.zip.\n"
          ]
        }
      ]
    },
    {
      "cell_type": "code",
      "metadata": {
        "id": "ps2F-B0eYtdT"
      },
      "source": [
        "\n",
        "# creating a list texts\n",
        "token_list = []\n",
        "\n",
        "for text in temp.text1.values:\n",
        "  token_list.append(text)\n",
        "for text in temp.text2.values:\n",
        "  token_list.append(text)\n",
        "\n",
        "from collections import Counter\n",
        "count = Counter()\n",
        "# Count unique words\n",
        "def counter_word(text_col):\n",
        "    \n",
        "    for text in text_col.values:\n",
        "        for word in text.split():\n",
        "            count[word] += 1\n",
        "\n",
        "\n",
        "counter_word(temp.text1)\n",
        "counter_word(temp.text2)\n",
        "\n",
        "num_unique_words = len(count)\n",
        "\n",
        "# vectorize a text corpus by turning each text into a sequence of interger\n",
        "tokenizer = Tokenizer(num_words=num_unique_words)\n",
        "tokenizer.fit_on_texts(token_list)  \n",
        "\n",
        "train = tokenizer.texts_to_sequences(token_list)\n",
        "\n",
        "# pad the sentence to have the same length\n",
        "from tensorflow.keras.preprocessing.sequence import pad_sequences\n",
        "\n",
        "# Maximum number of words in a suquence\n",
        "max_length = 250\n",
        "# Making each text size to be 250 words and cropping long sentences\n",
        "train_padded = pad_sequences(train, maxlen=max_length, padding=\"post\", truncating=\"post\")\n"
      ],
      "execution_count": 4,
      "outputs": []
    },
    {
      "cell_type": "markdown",
      "metadata": {
        "id": "SBr6JDdZoMyN"
      },
      "source": [
        "As I need to consider this problem as Unsupervised Learning. So I have used clustering methods to cluster our sentences and then label those texts based on MiniBatchKmeans. So that for further we can apply Deep Learning algorithms. I will explain more clearly in text report."
      ]
    },
    {
      "cell_type": "code",
      "metadata": {
        "id": "RedoWzmAYsmt"
      },
      "source": [
        "\n",
        "model_clustering = MiniBatchKMeans(n_clusters=2)\n",
        "model_clustering.fit(train_padded)\n",
        "# assign a cluster to each example\n",
        "yhat = model_clustering.predict(train_padded)\n",
        "# retrieve unique clusters\n",
        "clusters = unique(yhat)\n"
      ],
      "execution_count": 13,
      "outputs": []
    },
    {
      "cell_type": "code",
      "metadata": {
        "colab": {
          "base_uri": "https://localhost:8080/",
          "height": 265
        },
        "id": "9ahSJed-dt8s",
        "outputId": "eb5db436-706a-47e3-e30c-3f40a090f93c"
      },
      "source": [
        "# create scatter plot for samples from each cluster\n",
        "for cluster in clusters:\n",
        "\t# get row indexes for samples with this cluster\n",
        "\trow_ix = where(yhat == cluster)\n",
        "\t# create scatter of these samples\n",
        "\tplt.scatter(train_padded[row_ix, 0], train_padded[row_ix, 1])\n",
        "# show the plot\n",
        "plt.show()"
      ],
      "execution_count": 14,
      "outputs": [
        {
          "output_type": "display_data",
          "data": {
            "image/png": "[encoded data removed]",
            "text/plain": [
              "<Figure size 432x288 with 1 Axes>"
            ]
          },
          "metadata": {
            "needs_background": "light"
          }
        }
      ]
    },
    {
      "cell_type": "code",
      "metadata": {
        "id": "3NKnJktabIrJ"
      },
      "source": [
        "# Finding labels of two sentences based on the cluster that both sentences resides\n",
        "temp_data_labels = []\n",
        "for i in range(data.shape[0]):\n",
        "  if yhat[i] == yhat[data.shape[0]+i]:\n",
        "    temp_data_labels.append(1)\n",
        "  else:\n",
        "    temp_data_labels.append(0)"
      ],
      "execution_count": 15,
      "outputs": []
    },
    {
      "cell_type": "markdown",
      "metadata": {
        "id": "ZI7r0Y4udtnk"
      },
      "source": [
        "Making Labelled data based on clusters"
      ]
    },
    {
      "cell_type": "code",
      "metadata": {
        "id": "1hT777yadtQK"
      },
      "source": [
        "# Finally, we made our data into labelled data.\n",
        "final_data = pd.DataFrame({'text1':temp.text1,'text2':temp.text2,'label':temp_data_labels})"
      ],
      "execution_count": 16,
      "outputs": []
    },
    {
      "cell_type": "code",
      "metadata": {
        "colab": {
          "base_uri": "https://localhost:8080/"
        },
        "id": "2_ZUDJYleAZO",
        "outputId": "f568e516-f1d0-4170-82e2-2b846bc08740"
      },
      "source": [
        "final_data.label.value_counts()"
      ],
      "execution_count": 17,
      "outputs": [
        {
          "output_type": "execute_result",
          "data": {
            "text/plain": [
              "1    3571\n",
              "0     452\n",
              "Name: label, dtype: int64"
            ]
          },
          "metadata": {},
          "execution_count": 17
        }
      ]
    },
    {
      "cell_type": "markdown",
      "metadata": {
        "id": "7UrQXmzwhDQa"
      },
      "source": [
        "Char Encoder"
      ]
    },
    {
      "cell_type": "markdown",
      "metadata": {
        "id": "LTaBUTNrpXnX"
      },
      "source": [
        "I have used CharEncoder to encoder our paragraphs."
      ]
    },
    {
      "cell_type": "code",
      "metadata": {
        "id": "bL5UokXngzv1"
      },
      "source": [
        "class CharEncoder(object):\n",
        "\n",
        "  def __init__(self, *, max_length=6000, padding='end'):\n",
        "    # Tokens for encoding\n",
        "    self.CHARS_TOKENS = ['<PAD>', '<START>','<END>', '<UNK>']\n",
        "    # list of Alphabets\n",
        "    self.CHARS_ALPHA_LOWER = [chr(x) for x in range(0x0061, 0x007b)] #\"abcdefghijklmnopqrstuvwxyz\"\n",
        "    self.CHARS_WHITESPACES = [x for x in '\\t\\n ']\n",
        "    self.CHARS = ( self.CHARS_TOKENS \n",
        "                + self.CHARS_ALPHA_LOWER\n",
        "                + self.CHARS_WHITESPACES )\n",
        "    # Setting indexes to each character\n",
        "    self.INDEXES = {c:i for i,c in enumerate(self.CHARS)}\n",
        "    # Setting max_length of sentences\n",
        "    self.MAX_LENGTH = max_length\n",
        "    self.PADDING = padding\n",
        "    self.LEN = len(self.CHARS)\n",
        "  \n",
        "  # This function helps to decode text based index values\n",
        "  # If adds apdding and truncate sentence if it is large\n",
        "  def text_to_idx(self, s, *, max_length=None, padding=None):\n",
        "    idx_array = [self.INDEXES['<START>']]\n",
        "    idx_array += [self.INDEXES[c] if c in self.CHARS else self.INDEXES['<UNK>']\n",
        "                  for c in s]\n",
        "    idx_array += [self.INDEXES['<END>']]\n",
        "\n",
        "    if not max_length:\n",
        "      max_length = self.MAX_LENGTH\n",
        "\n",
        "    if not padding:\n",
        "      padding = self.PADDING\n",
        "\n",
        "    pad_size = max_length - len(idx_array)\n",
        "    if 0 < pad_size and padding == 'start':\n",
        "      idx_array = [self.INDEXES['<PAD>'] for _ in range(pad_size)] + idx_array\n",
        "    elif 0 < pad_size and padding=='end':\n",
        "      idx_array = idx_array + [self.INDEXES['<PAD>'] for _ in range(pad_size)]\n",
        "\n",
        "    return list(idx_array[:max_length])\n",
        "\n",
        "  # Decodes from indexs to texts\n",
        "  def idx_to_text(self, idxes, *, with_token=False):\n",
        "    char_list = [self.CHARS[i] for i in idxes if i < len(self.CHARS)]\n",
        "    if with_token != True:\n",
        "      char_list = [c for c in char_list if c not in self.CHARS_TOKENS]\n",
        "    return ''.join(char_list)\n",
        "\n",
        "  def to_idx(self, s_list, *, max_length=None, padding=None):\n",
        "    return [self.text_to_idx(s, max_length=max_length, padding=padding) \n",
        "              for s in s_list]\n",
        "    \n",
        "  def to_text(self, idxes_list, *, with_token=False):\n",
        "    return [self.idx_to_text(idxes, with_token=with_token)\n",
        "              for idxes in idxes_list]"
      ],
      "execution_count": 18,
      "outputs": []
    },
    {
      "cell_type": "code",
      "metadata": {
        "colab": {
          "base_uri": "https://localhost:8080/"
        },
        "id": "nqNErpRgh7RV",
        "outputId": "35e7e687-2064-48c4-c9ea-714190299fef"
      },
      "source": [
        "# Observing how CharEncoder works\n",
        "enc = CharEncoder(max_length=6000, padding='end')\n",
        "test = np.array(enc.to_idx(final_data.text1))\n",
        "print(test.shape)\n",
        "print(final_data.text1[:3])\n",
        "print(test[:3])\n",
        "print(enc.to_text(test)[:3])"
      ],
      "execution_count": 19,
      "outputs": [
        {
          "output_type": "stream",
          "name": "stdout",
          "text": [
            "(4023, 6000)\n",
            "0    savvi searcher fail spot ad internet search en...\n",
            "1    million miss net uk popul still without intern...\n",
            "2    young debut cut short ginepri fifteen year old...\n",
            "Name: text1, dtype: object\n",
            "[[ 1 22  4 ...  0  0  0]\n",
            " [ 1 16 12 ...  0  0  0]\n",
            " [ 1 28 18 ...  0  0  0]]\n",
            "['savvi searcher fail spot ad internet search engin user odd mix naiv sophist suggest report search habit report us pew research center reveal searcher usual find look use search engin also show spot differ paid for result organ one report reveal net user say regular use googl ask jeev msn yahoo onlin almost question said would trust search engin much less knew inform paid result hidden accord figur gather pew research averag user spend minut per month carri separ search look webpag hunt signific chunk net user carri search least week ask look everi week question inform look critic inform simpli find search engin user also tend loyal found site feel trust tend stick it accord pew research searcher use singl search engin use two three small number consult three site toni macklin spokesman ask jeev said result reflect research show peopl use differ search engin way site gather inform mean provid differ result queri despit like search site half question said could get inform via rout small number said realli miss search engin exist remain said could live without search site two third question said thought result present fair unbias select inform topic found net alongsid grow sophist net user lack awar paid for result mani search engin provid alongsid list websit found index web ask unawar someon paid result see carri search searcher say tell result paid not said pew report find iron sinc near half user say would stop use search engin thought engin clear present paid result comment mr macklin said sponsor result must clear mark though might help queri user test show peopl need abl spot differ', 'million miss net uk popul still without internet access home say studi around million briton miss wide rang essenti servic educ medic inform predict report telecom giant bt compar million uk current onlin idea digit divid evapor time wish think report conclud studi call govern telecom industri come new way lure bypass digit revolut although percentag briton without home access fallen slight remain digit refusenik miss report suggest everyday task move onlin offlin servic becom less comprehens divid becom obvious burdensom got net access predict gap have net have not much talk predict divid affect futur generat less discuss bt set predict futur pattern base current inform take account way technolog chang optimist predict converg emerg user friend technolog bridg digit divid could way mark report suggest internet access devic tend someth taken alreadi said adrian hosford director corpor respons bt cost internet access fallen dramat coverag remot area vast improv last year real barrier remain psycholog hard rump have not engag net motiv skill perceiv benefit said mr hosford disadvantag group like remain among low incom famili older generat disabl low incom account quarter digit have not disabl make elder near third report forecast organis bt respons help tackl problem said mr hosford telco seen posit result everybodi onlin project offer internet access peopl eight depriv communiti around britain one area cornwal high level unemploy onlin train help peopl rewrit cvs learn skill get new job explain mr hosford grassroot activ address specif need individu communiti essenti problem digit divid overcom said address problem get lot wors peopl find difficult find job educ opportun limit simpli abl keep societi said allianc digit inclus independ bodi member drawn govern industri voluntari sector recent set tackl issu face digit refusenik', 'young debut cut short ginepri fifteen year old donald young first appear atp tenni tournament prove brief teenag went round one san jose open young shot top junior world rank boy singl januari australian open wildcard entri dispatch fellow american robbi ginepri straight set california despit happi tour debut fun chanc come said young beat two player rank top first set lose next game ginepri six year older youngest player ever win junior slam top global stand admit impress talent said ginepri got long futur ahead him left hand quick around court serv littl decept came net volley better thought earlier south korean hyung taik lee defeat american jan michael gambil american kevin kim defeat jan hernych czech republ canadian qualifi frank dancev down american jeff morrison denmark kenneth carlsen beat irak labadz republ georgia top seed andi roddick launch defenc titl wednesday qualifi paul goldstein second seed andr agassi open campaign tuesday wildcard bobbi reynold last year us collegi champion agassi san jose five time run three straight titl end last year fell mardi fish semi final fish went lose roddick final']\n"
          ]
        }
      ]
    },
    {
      "cell_type": "markdown",
      "metadata": {
        "id": "f1nlds1-t4yo"
      },
      "source": [
        "My approach is to build model more or like a Siamse Network.\n",
        "A Siamese neural network (sometimes called a twin neural network) is an artificial neural network that contains two or more identical subnetworks which means they have the same configuration with the same parameters and weights. Usually, we only train one of the subnetworks and use the same configuration for other sub-networks. These networks are used to find the similarity of the inputs by comparing their feature vectors."
      ]
    },
    {
      "cell_type": "markdown",
      "metadata": {
        "id": "4Q7TUYSRunl1"
      },
      "source": [
        "I have used Siamse Network Architecture to finding similarity between two sentences. Here is the diagram of complete architecture of Siamse Nework.\n",
        "\n",
        "Complete Architecture\n",
        "![siam_2.png](data:image/png;base64,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)![siam_1.png](data:image/png;base64,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)"
      ]
    },
    {
      "cell_type": "code",
      "metadata": {
        "id": "b-_OpqSOjz6y"
      },
      "source": [
        "# Creating class Config for seeting Hyperparameters\n",
        "class Config(object):\n",
        "\n",
        "  PADDING = \"end\"\n",
        "  \n",
        "  MAX_TEXT_LEN = 100\n",
        "  VECTOR_SIZE = 6000\n",
        "\n",
        "  EMBEDDING_DIM = 32\n",
        "\n",
        "  CONV_FILTER_NUMS = [64, 64, 64, 64] \n",
        "  CONV_FILTER_SIZES = [4, 6, 8, 10]\n",
        "\n",
        "  LSTM_HIDDEN_NUM = 64\n",
        "  LSTM_DROPOUT = 0.3\n",
        "\n",
        "  ENC_DENSE_DROPOUT = 0.3\n",
        "  ENC_DENSE_NUM = VECTOR_SIZE\n",
        "\n",
        "  LAST_DENSE_DROPOUT = 0.3\n",
        "  LAST_DENSE_NUM = 32\n",
        "\n",
        "  LEARNING_RATE = 0.001\n",
        "  BATCH_SIZE = 256\n",
        "  EPOCHS = 10\n",
        "\n",
        "  def __init__(self):\n",
        "    self.ENCODER = CharEncoder(max_length=self.MAX_TEXT_LEN, padding=self.PADDING)\n",
        "    self.NUM_WORDS = self.ENCODER.LEN"
      ],
      "execution_count": 43,
      "outputs": []
    },
    {
      "cell_type": "code",
      "metadata": {
        "id": "kXaeXx30liOS"
      },
      "source": [
        "# I will explain my strategy in my report.\n",
        "\n",
        "def _obtain_input_shape(max_text_len):\n",
        "    if not (isinstance(max_text_len, int)):\n",
        "        raise(ValueError('`max_text_len` should be' +\n",
        "                         'a single integer.'))\n",
        "    input_shape = (max_text_len, )\n",
        "        \n",
        "    return input_shape\n",
        "\n",
        "# Function to build 4 convolution blocks\n",
        "def _conv_block(inputs,\n",
        "                filter_nums,\n",
        "                filter_sizes):\n",
        "\n",
        "    conv_blocks = []\n",
        "    # Using 4,6,8,10 Conv1D to extract meaning between words    \n",
        "    for fn, fs in zip(filter_nums, filter_sizes):\n",
        "        conv = layers.Conv1D(filters=fn,\n",
        "                             kernel_size=fs,\n",
        "                             padding='same',\n",
        "                             activation='relu',\n",
        "                             strides=1)(inputs)\n",
        "\n",
        "        conv_blocks.append(conv)\n",
        "\n",
        "    return conv_blocks\n",
        "\n",
        "\n",
        "# It encodes sentences to vector.Encoding and Embedding character by character\n",
        "def VectEncoder(weights=None, config=None): \n",
        "    input_shape = _obtain_input_shape(config.MAX_TEXT_LEN)\n",
        "    inputs = layers.Input(shape=input_shape) # Defining Inputs with shape\n",
        "\n",
        "    x = layers.Embedding(config.NUM_WORDS, \n",
        "                         config.EMBEDDING_DIM,\n",
        "                         input_length=config.MAX_TEXT_LEN)(inputs) # Defining 4 convolution blocks\n",
        "    conv_blocks = _conv_block(x, config.CONV_FILTER_NUMS,\n",
        "                                 config.CONV_FILTER_SIZES) #using 4,6,8,10 Conv1D to extract meaning between words\n",
        "    x = layers.Concatenate()(conv_blocks) # Concatenating conv blocks\n",
        "    # Adding Bidirectional LSTM to capture relationship in long sequence\n",
        "    # Using Bidirectional LSTM to understand context meaning\n",
        "    x = layers.Bidirectional(layers.LSTM(config.LSTM_HIDDEN_NUM, dropout=config.LSTM_DROPOUT, return_sequences=True))(x)\n",
        "    # Reduces dimensions with TimeDistributed (Dense) to preserve the information of all time steps as much as possible\n",
        "    x = layers.TimeDistributed(layers.Dense(4, activation='relu'))(x)\n",
        "    x = layers.Flatten()(x)\n",
        "    x = layers.Dropout(config.ENC_DENSE_DROPOUT)(x)\n",
        "    x = layers.Dense(config.ENC_DENSE_NUM, activation='relu')(x) #Final Vector Output\n",
        "\n",
        "    model = models.Model(inputs, x)\n",
        "\n",
        "    if weights is not None:\n",
        "        model.load_weights(weights)\n",
        " \n",
        "    return model\n",
        "\n",
        "# It combines both the vectors \n",
        "def VectSimilarityEstimator(weights=None, config=None):\n",
        "  input_shape = _obtain_input_shape(config.VECTOR_SIZE)\n",
        "  inputs1 = layers.Input(shape=input_shape)\n",
        "  inputs2 = layers.Input(shape=input_shape)\n",
        "  # layer for capturing L1 distances between two encoded vectors\n",
        "  x = layers.Lambda(lambda tensors:backend.abs(tensors[0] - tensors[1]))([inputs1, inputs2]) # L1 distance\n",
        "  x = layers.Dropout(config.LAST_DENSE_DROPOUT)(x)\n",
        "  x = layers.Dense(config.LAST_DENSE_NUM, activation='relu')(x)\n",
        "  x = layers.Dense(1, activation='sigmoid')(x)\n",
        "\n",
        "  model = models.Model([inputs1, inputs2], x)\n",
        "\n",
        "  if weights is not None:\n",
        "        model.load_weights(weights)\n",
        " \n",
        "  return model\n",
        "\n",
        "def SentenceSimilarityEstimator(weights=None, config=None):\n",
        "  input_shape = _obtain_input_shape(config.MAX_TEXT_LEN)\n",
        "  sent1 = layers.Input(shape=input_shape)\n",
        "  sent2 = layers.Input(shape=input_shape)\n",
        "  # Encoder for encoding senetence 1\n",
        "  encoder_1 = VectEncoder(config=config)\n",
        "  # Encoder for encoding senetence 2\n",
        "  encoder_2 = VectEncoder(config=config)\n",
        "  # merging both encoders\n",
        "  estimator = VectSimilarityEstimator(config=config)\n",
        "\n",
        "  vect1 = encoder_1(sent1)\n",
        "  vect2 = encoder_2(sent2)\n",
        "  similarity = estimator([vect1, vect2])\n",
        "\n",
        "  model = models.Model([sent1, sent2], similarity)\n",
        "\n",
        "  if weights is not None:\n",
        "        model.load_weights(weights)\n",
        "\n",
        "  return model, encoder_1, encoder_2, estimator\n"
      ],
      "execution_count": 44,
      "outputs": []
    },
    {
      "cell_type": "code",
      "metadata": {
        "id": "yYk7KbjDlr6Q"
      },
      "source": [
        "# Building our final model.\n",
        "class MyDLModel(object):\n",
        "  def __init__(self, *, config=None, load_file_prefix=None):\n",
        "    if load_file_prefix:\n",
        "      cf,wf = self.__get_file(load_file_prefix)\n",
        "      self.config = self.__load_config(cf)\n",
        "      weight_file = wf\n",
        "    else:\n",
        "      self.config = config if config else Config()\n",
        "      weight_file = None\n",
        "    \n",
        "    model, encoder_1, encoder_2, estimator = SentenceSimilarityEstimator(config=self.config, weights=weight_file)\n",
        "    self.model = model\n",
        "    self.encoder_1 = encoder_1\n",
        "    self.encoder_2 = encoder_2\n",
        "    self.estimator = estimator\n",
        "\n",
        "    self.model.compile(optimizer=keras.optimizers.Adam(self.config.LEARNING_RATE),\n",
        "                        loss='binary_crossentropy',\n",
        "                        metrics=['accuracy'])\n",
        "  \n",
        "  def __get_file(self, prefix):\n",
        "    config_name = prefix+\"_config.pkl\"\n",
        "    weight_name = prefix+\"_weight.hd5\"\n",
        "    return config_name, weight_name\n",
        "\n",
        "  def __load_config(self, load_file):\n",
        "    with gzip.open(load_file, 'rb') as f:\n",
        "      config = pickle.load(f)\n",
        "    return config\n",
        "\n",
        "  def __save_config(self, save_file):\n",
        "    with gzip.open(save_file, 'wb') as f:\n",
        "      config = pickle.dump(self.config, f)\n",
        "    return config\n",
        "\n",
        "  def save_model(self, file_name_prefix):\n",
        "    cf,wf = self.__get_file(file_name_prefix)\n",
        "    self.model.save_weights(wf)\n",
        "    self.__save_config(cf)\n",
        "    print(file_name_prefix,\"Saved\")\n",
        "\n",
        "  def summary(self, recusive=False):\n",
        "    self.model.summary()\n",
        "    if recusive:\n",
        "      print()\n",
        "      print(\"== encoder_1 ==\")\n",
        "      self.encoder_1.summary()\n",
        "      print()\n",
        "      print(\"== encoder_2 ==\")\n",
        "      self.encoder_2.summary()\n",
        "      print()\n",
        "      print(\"== estimator ==\")\n",
        "      self.estimator.summary()\n",
        "\n",
        "  def encodeSents(self, data_X):\n",
        "    enc = self.config.ENCODER\n",
        "    sents1 = np.array(enc.to_idx(data_X.text1))\n",
        "    sents2 = np.array(enc.to_idx(data_X.text2))\n",
        "    return [sents1, sents2]\n",
        "\n",
        "  def makeInt(self, data_Y):\n",
        "    y = np.array(data_Y.astype('int'))\n",
        "    return y\n",
        "\n",
        "  def fit(self, train_X, train_Y, *, valid=None, epochs=None, batch_size=None):\n",
        "    if valid:\n",
        "      validation_data = (self.encodeSents(valid[0]), self.makeInt(valid[1]))\n",
        "    else:\n",
        "      validation_data = None\n",
        "\n",
        "    if not epochs:\n",
        "      epochs = self.config.EPOCHS\n",
        "    if not batch_size:\n",
        "      batch_size = self.config.BATCH_SIZE\n",
        "\n",
        "    history = self.model.fit(self.encodeSents(train_X), self.makeInt(train_Y),\n",
        "                   epochs=epochs, batch_size=batch_size,\n",
        "                   validation_data=validation_data)\n",
        "    \n",
        "    return history\n",
        "\n",
        "  def evaluate(self, data_X, data_Y):\n",
        "    self.model.evaluate(self.encodeSents(data_X), self.makeInt(data_Y))\n",
        "\n",
        "  def predict_proba(self, data_X):\n",
        "    y = self.model(self.encodeSents(data_X))\n",
        "    y = np.array(y).reshape(-1,)\n",
        "    return y\n",
        "    \n",
        "  def predict(self, data_X):\n",
        "    return 0.5 < self.predict_proba(data_X)\n"
      ],
      "execution_count": 45,
      "outputs": []
    },
    {
      "cell_type": "code",
      "metadata": {
        "id": "hTwSgbjOlzIq"
      },
      "source": [
        "model = MyDLModel()\n",
        "model.summary(True)"
      ],
      "execution_count": null,
      "outputs": []
    },
    {
      "cell_type": "code",
      "metadata": {
        "colab": {
          "base_uri": "https://localhost:8080/"
        },
        "id": "5qPpmM5fl02v",
        "outputId": "5028c7e6-67ab-4cca-de2e-1a1c9cd739b6"
      },
      "source": [
        "trainX = final_data.iloc[:,:-1]\n",
        "trainY = final_data.iloc[:,-1]\n",
        "model.evaluate(trainX, trainY)"
      ],
      "execution_count": 47,
      "outputs": [
        {
          "output_type": "stream",
          "name": "stdout",
          "text": [
            "126/126 [==============================] - 9s 43ms/step - loss: 0.6930 - accuracy: 0.5881\n"
          ]
        }
      ]
    },
    {
      "cell_type": "code",
      "metadata": {
        "colab": {
          "base_uri": "https://localhost:8080/",
          "height": 640
        },
        "id": "RkL9m0Vwmbqx",
        "outputId": "46a8645a-2d32-4b14-b8be-a0442df50170"
      },
      "source": [
        "def show_learning_curve(hist):\n",
        "  fig, loss_ax = plt.subplots()\n",
        "  acc_ax = loss_ax.twinx()\n",
        "\n",
        "  loss_ax.plot(hist.history['loss'], 'y', label='train loss')\n",
        "  # loss_ax.plot(hist.history['val_loss'], 'r', label='val loss')\n",
        "  loss_ax.set_xlabel('epoch')\n",
        "  loss_ax.set_ylabel('loss')\n",
        "  loss_ax.legend(loc='lower left')\n",
        "\n",
        "  plt.show()\n",
        "\n",
        "learn_hists = []\n",
        "def train_and_show_for_DL(model):\n",
        "  hist = model.fit(trainX, trainY, epochs=5)\n",
        "  learn_hists.append(hist)\n",
        "  print(\"== learning curve ==\")\n",
        "  show_learning_curve(hist)\n",
        "  pred_Y = model.predict(trainX)\n",
        "\n",
        "\n",
        "model = MyDLModel()\n",
        "train_and_show_for_DL(model)"
      ],
      "execution_count": 48,
      "outputs": [
        {
          "output_type": "stream",
          "name": "stdout",
          "text": [
            "Epoch 1/10\n",
            "16/16 [==============================] - 11s 171ms/step - loss: 0.3916 - accuracy: 0.8673\n",
            "Epoch 2/10\n",
            "16/16 [==============================] - 3s 166ms/step - loss: 0.3518 - accuracy: 0.8876\n",
            "Epoch 3/10\n",
            "16/16 [==============================] - 3s 168ms/step - loss: 0.3520 - accuracy: 0.8876\n",
            "Epoch 4/10\n",
            "16/16 [==============================] - 3s 169ms/step - loss: 0.3495 - accuracy: 0.8876\n",
            "Epoch 5/10\n",
            "16/16 [==============================] - 3s 166ms/step - loss: 0.3504 - accuracy: 0.8876\n",
            "Epoch 6/10\n",
            "16/16 [==============================] - 3s 166ms/step - loss: 0.3437 - accuracy: 0.8876\n",
            "Epoch 7/10\n",
            "16/16 [==============================] - 3s 168ms/step - loss: 0.3458 - accuracy: 0.8876\n",
            "Epoch 8/10\n",
            "16/16 [==============================] - 3s 168ms/step - loss: 0.3380 - accuracy: 0.8876\n",
            "Epoch 9/10\n",
            "16/16 [==============================] - 3s 166ms/step - loss: 0.3406 - accuracy: 0.8876\n",
            "Epoch 10/10\n",
            "16/16 [==============================] - 3s 167ms/step - loss: 0.3255 - accuracy: 0.8876\n",
            "== learning curve ==\n"
          ]
        },
        {
          "output_type": "display_data",
          "data": {
            "image/png": "[encoded data removed]",
            "text/plain": [
              "<Figure size 432x288 with 2 Axes>"
            ]
          },
          "metadata": {
            "needs_background": "light"
          }
        }
      ]
    },
    {
      "cell_type": "markdown",
      "metadata": {
        "id": "epPSR8t0xlfh"
      },
      "source": [
        "These are the functions that maps to updated vectors after training the Siamse Network."
      ]
    },
    {
      "cell_type": "code",
      "metadata": {
        "id": "AsQwHxV6wcq1"
      },
      "source": [
        "def getVector1(model, descriptions):\n",
        "  return  np.array(model.encoder_1(np.array(model.config.ENCODER.to_idx(descriptions))))\n",
        "\n",
        "def getVector2(model, descriptions):\n",
        "  return np.array(model.encoder_2(np.array(model.config.ENCODER.to_idx(descriptions))))\n",
        "\n"
      ],
      "execution_count": 29,
      "outputs": []
    },
    {
      "cell_type": "code",
      "metadata": {
        "id": "a6qEl8vpgw2c"
      },
      "source": [
        "vector_x = getVector1(model, final_data.text1)\n",
        "vector_y = getVector2(model, final_data.text2)"
      ],
      "execution_count": 49,
      "outputs": []
    },
    {
      "cell_type": "code",
      "metadata": {
        "id": "12cZi-4ekuBy"
      },
      "source": [
        "# Calculating the similarity between two encoded vectors\n",
        "from scipy import spatial\n",
        "similarity = []\n",
        "for i in range(final_data.shape[0]):\n",
        "  similarity.append(1-spatial.distance.cosine(vector_x[i], vector_y[i]))\n"
      ],
      "execution_count": 67,
      "outputs": []
    },
    {
      "cell_type": "code",
      "metadata": {
        "id": "Zw9FDXw-mLHa"
      },
      "source": [
        "sravan_kumar_submission = pd.DataFrame(index=final_data.index,data = {'similarity':similarity})"
      ],
      "execution_count": 76,
      "outputs": []
    },
    {
      "cell_type": "code",
      "metadata": {
        "id": "96k1henlmcvb"
      },
      "source": [
        "# saving the dataframe\n",
        "sravan_kumar_submission.to_csv('sravan_kumar_submission.csv')"
      ],
      "execution_count": 78,
      "outputs": []
    },
    {
      "cell_type": "markdown",
      "metadata": {
        "id": "NJ0MXbyvx5qI"
      },
      "source": [
        "This is the end of code.\n",
        "Thanks for giving me this oppourtunity.\n",
        "\n",
        "\n",
        "\n",
        "Thanks and Regards,\n",
        "\n",
        "Sravan Kumar (AI Enthusiast)"
      ]
    },
    {
      "cell_type": "code",
      "metadata": {
        "id": "_q9Hild_w-Hy"
      },
      "source": [
        ""
      ],
      "execution_count": null,
      "outputs": []
    }
  ]
}